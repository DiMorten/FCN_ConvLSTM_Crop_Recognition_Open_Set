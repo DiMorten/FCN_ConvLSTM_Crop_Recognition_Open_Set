{
  "nbformat": 4,
  "nbformat_minor": 0,
  "metadata": {
    "colab": {
      "name": "Welcome To Colaboratory",
      "provenance": [],
      "collapsed_sections": [],
      "machine_shape": "hm",
      "include_colab_link": true
    },
    "kernelspec": {
      "display_name": "Python 3",
      "name": "python3"
    },
    "accelerator": "GPU"
  },
  "cells": [
    {
      "cell_type": "markdown",
      "metadata": {
        "id": "view-in-github",
        "colab_type": "text"
      },
      "source": [
        "<a href=\"https://colab.research.google.com/github/DiMorten/FCN_ConvLSTM_Crop_Recognition_Open_Set/blob/coords3/train_and_evaluate.ipynb\" target=\"_parent\"><img src=\"https://colab.research.google.com/assets/colab-badge.svg\" alt=\"Open In Colab\"/></a>"
      ]
    },
    {
      "cell_type": "markdown",
      "metadata": {
        "id": "LJ7UjI3YD4w8"
      },
      "source": [
        "## Dependencies"
      ]
    },
    {
      "cell_type": "code",
      "metadata": {
        "id": "jJZd_oJYCkmN",
        "colab": {
          "base_uri": "https://localhost:8080/"
        },
        "outputId": "aeb6b86a-4b47-4136-a873-5cb1f1625b24"
      },
      "source": [
        "!pip install icecream\n",
        "%tensorflow_version 1.x\n",
        "import os\n",
        "!pip install kora\n",
        "from kora import drive\n",
        "import time\n",
        "!pip install colorama\n",
        "\n",
        "ds_path='/content/drive/My Drive/PhD/datasets/cv_data/'"
      ],
      "execution_count": 1,
      "outputs": [
        {
          "output_type": "stream",
          "text": [
            "Requirement already satisfied: icecream in /usr/local/lib/python3.7/dist-packages (2.1.1)\n",
            "Requirement already satisfied: pygments>=2.2.0 in /usr/local/lib/python3.7/dist-packages (from icecream) (2.6.1)\n",
            "Requirement already satisfied: colorama>=0.3.9 in /usr/local/lib/python3.7/dist-packages (from icecream) (0.4.4)\n",
            "Requirement already satisfied: executing>=0.3.1 in /usr/local/lib/python3.7/dist-packages (from icecream) (0.7.0)\n",
            "Requirement already satisfied: asttokens>=2.0.1 in /usr/local/lib/python3.7/dist-packages (from icecream) (2.0.5)\n",
            "Requirement already satisfied: six in /usr/local/lib/python3.7/dist-packages (from asttokens>=2.0.1->icecream) (1.15.0)\n",
            "TensorFlow 1.x selected.\n",
            "Requirement already satisfied: kora in /usr/local/lib/python3.7/dist-packages (0.9.19)\n",
            "Requirement already satisfied: ipython in /usr/local/lib/python3.7/dist-packages (from kora) (5.5.0)\n",
            "Requirement already satisfied: fastcore in /usr/local/lib/python3.7/dist-packages (from kora) (1.3.20)\n",
            "Requirement already satisfied: pip in /usr/local/lib/python3.7/dist-packages (from fastcore->kora) (21.1.3)\n",
            "Requirement already satisfied: packaging in /usr/local/lib/python3.7/dist-packages (from fastcore->kora) (21.0)\n",
            "Requirement already satisfied: pickleshare in /usr/local/lib/python3.7/dist-packages (from ipython->kora) (0.7.5)\n",
            "Requirement already satisfied: prompt-toolkit<2.0.0,>=1.0.4 in /usr/local/lib/python3.7/dist-packages (from ipython->kora) (1.0.18)\n",
            "Requirement already satisfied: decorator in /usr/local/lib/python3.7/dist-packages (from ipython->kora) (4.4.2)\n",
            "Requirement already satisfied: setuptools>=18.5 in /usr/local/lib/python3.7/dist-packages (from ipython->kora) (57.2.0)\n",
            "Requirement already satisfied: simplegeneric>0.8 in /usr/local/lib/python3.7/dist-packages (from ipython->kora) (0.8.1)\n",
            "Requirement already satisfied: pexpect in /usr/local/lib/python3.7/dist-packages (from ipython->kora) (4.8.0)\n",
            "Requirement already satisfied: pygments in /usr/local/lib/python3.7/dist-packages (from ipython->kora) (2.6.1)\n",
            "Requirement already satisfied: traitlets>=4.2 in /usr/local/lib/python3.7/dist-packages (from ipython->kora) (5.0.5)\n",
            "Requirement already satisfied: wcwidth in /usr/local/lib/python3.7/dist-packages (from prompt-toolkit<2.0.0,>=1.0.4->ipython->kora) (0.2.5)\n",
            "Requirement already satisfied: six>=1.9.0 in /usr/local/lib/python3.7/dist-packages (from prompt-toolkit<2.0.0,>=1.0.4->ipython->kora) (1.15.0)\n",
            "Requirement already satisfied: ipython-genutils in /usr/local/lib/python3.7/dist-packages (from traitlets>=4.2->ipython->kora) (0.2.0)\n",
            "Requirement already satisfied: pyparsing>=2.0.2 in /usr/local/lib/python3.7/dist-packages (from packaging->fastcore->kora) (2.4.7)\n",
            "Requirement already satisfied: ptyprocess>=0.5 in /usr/local/lib/python3.7/dist-packages (from pexpect->ipython->kora) (0.7.0)\n",
            "Requirement already satisfied: colorama in /usr/local/lib/python3.7/dist-packages (0.4.4)\n"
          ],
          "name": "stdout"
        }
      ]
    },
    {
      "cell_type": "code",
      "metadata": {
        "id": "Cosqh5n5Pewo",
        "colab": {
          "base_uri": "https://localhost:8080/"
        },
        "outputId": "ea771ec3-0989-4074-b3f4-97fac746de72"
      },
      "source": [
        "\n",
        "from google.colab import drive\n",
        "drive.mount('/content/drive')"
      ],
      "execution_count": 2,
      "outputs": [
        {
          "output_type": "stream",
          "text": [
            "Drive already mounted at /content/drive; to attempt to forcibly remount, call drive.mount(\"/content/drive\", force_remount=True).\n"
          ],
          "name": "stdout"
        }
      ]
    },
    {
      "cell_type": "code",
      "metadata": {
        "colab": {
          "base_uri": "https://localhost:8080/"
        },
        "id": "gJr_9dXGpJ05",
        "outputId": "e3017bcf-b6c6-4199-d66e-a22ee5a9cfba"
      },
      "source": [
        "git_clone = True\n",
        "\n",
        "if git_clone == True:\n",
        "  os.chdir('/content')\n",
        "  %rm -rf FCN_ConvLSTM_Crop_Recognition_Open_Set\n",
        "  !git clone --branch coords3 https://github.com/DiMorten/FCN_ConvLSTM_Crop_Recognition_Open_Set.git"
      ],
      "execution_count": 3,
      "outputs": [
        {
          "output_type": "stream",
          "text": [
            "Cloning into 'FCN_ConvLSTM_Crop_Recognition_Open_Set'...\n",
            "remote: Enumerating objects: 1747, done.\u001b[K\n",
            "remote: Counting objects: 100% (1747/1747), done.\u001b[K\n",
            "remote: Compressing objects: 100% (1243/1243), done.\u001b[K\n",
            "remote: Total 1747 (delta 1121), reused 935 (delta 333), pack-reused 0\u001b[K\n",
            "Receiving objects: 100% (1747/1747), 37.28 MiB | 28.53 MiB/s, done.\n",
            "Resolving deltas: 100% (1121/1121), done.\n"
          ],
          "name": "stdout"
        }
      ]
    },
    {
      "cell_type": "markdown",
      "metadata": {
        "id": "Xdj6CiT0Dz9l"
      },
      "source": [
        "## Download images into proper folder"
      ]
    },
    {
      "cell_type": "code",
      "metadata": {
        "id": "5q1eoQFaYvB4"
      },
      "source": [
        "!cp -r /content/drive/MyDrive/PhD/datasets/cv_data /content/FCN_ConvLSTM_Crop_Recognition_Open_Set/dataset/dataset/"
      ],
      "execution_count": 4,
      "outputs": []
    },
    {
      "cell_type": "code",
      "metadata": {
        "id": "vvzH-luqPoiU",
        "colab": {
          "base_uri": "https://localhost:8080/"
        },
        "outputId": "7eef4c6d-3208-49ce-b6fb-b1a8271d6da8"
      },
      "source": [
        "os.chdir('/content/FCN_ConvLSTM_Crop_Recognition_Open_Set/networks/convlstm_networks/train_src')\n",
        "os.getcwd()\n",
        "os.listdir()"
      ],
      "execution_count": 5,
      "outputs": [
        {
          "output_type": "execute_result",
          "data": {
            "text/plain": [
              "['obj',\n",
              " 'deb.py',\n",
              " 'metrics.py',\n",
              " 'model.py',\n",
              " 'keras_weighted_categorical_crossentropy.py',\n",
              " 'dataset.py',\n",
              " 'model_best_UUnet4ConvLSTM_jun_cv_criteria_0_92',\n",
              " 'model_input_mode.py',\n",
              " 'generator.py',\n",
              " 'densnet.py',\n",
              " 'parameters',\n",
              " 'monitor.py',\n",
              " 'densnet_timedistributed.py',\n",
              " 'patch_extractor.py',\n",
              " 'analysis',\n",
              " '__init__.py',\n",
              " 'main.py']"
            ]
          },
          "metadata": {
            "tags": []
          },
          "execution_count": 5
        }
      ]
    },
    {
      "cell_type": "code",
      "metadata": {
        "id": "CUsDu9hhDZT8",
        "colab": {
          "base_uri": "https://localhost:8080/"
        },
        "outputId": "34fbfdda-71a7-4301-f4a4-2dc60a08bc1c"
      },
      "source": [
        "from colorama import init\n",
        "init()\n",
        "from keras.layers import Input, Dense, Conv2D, MaxPool2D, Flatten, Dropout, Conv2DTranspose\n",
        "# from keras.callbacks import ModelCheckpoint , EarlyStopping\n",
        "from keras.optimizers import Adam,Adagrad \n",
        "from keras.models import Model\n",
        "from keras import backend as K\n",
        "import keras\n",
        "\n",
        "import numpy as np\n",
        "from sklearn.utils import shuffle\n",
        "import cv2\n",
        "import argparse\n",
        "import tensorflow as tf\n",
        "\n",
        "from keras.models import *\n",
        "from keras.layers import *\n",
        "from keras.optimizers import *\n",
        "from keras import metrics\n",
        "import sys\n",
        "import glob\n",
        "\n",
        "from sklearn.metrics import confusion_matrix,f1_score,accuracy_score,classification_report\n",
        "# Local\n",
        "from densnet import DenseNetFCN\n",
        "from densnet_timedistributed import DenseNetFCNTimeDistributed\n",
        "\n",
        "#from metrics import fmeasure,categorical_accuracy\n",
        "import deb\n",
        "from keras_weighted_categorical_crossentropy import weighted_categorical_crossentropy, sparse_accuracy_ignoring_last_label, weighted_categorical_crossentropy_ignoring_last_label, categorical_focal_ignoring_last_label, weighted_categorical_focal_ignoring_last_label\n",
        "from keras.models import load_model\n",
        "from keras.layers import ConvLSTM2D, UpSampling2D, multiply\n",
        "from keras.utils.vis_utils import plot_model\n",
        "from keras.regularizers import l1,l2\n",
        "import time\n",
        "import pickle\n",
        "#from keras_self_attention import SeqSelfAttention\n",
        "import pdb\n",
        "import pathlib\n",
        "from pathlib import Path, PureWindowsPath\n",
        "from keras.layers import Conv3DTranspose, Conv3D\n",
        "\n",
        "from keras.callbacks import EarlyStopping\n",
        "import tensorflow as tf\n",
        "from collections import Counter\n",
        "\n",
        "\n",
        "#from datagenerator import DataGenerator\n",
        "from generator import DataGenerator, DataGeneratorWithCoords, DataGeneratorWithCoordsPatches\n",
        "\n",
        "import matplotlib.pyplot as plt\n",
        "sys.path.append('../../../dataset/dataset/patches_extract_script/')\n",
        "from dataSource import DataSource, SARSource, OpticalSource, Dataset, LEM, LEM2, CampoVerde, OpticalSourceWithClouds, Humidity\n",
        "from model_input_mode import MIMFixed, MIMVarLabel, MIMVarSeqLabel, MIMVarLabel_PaddedSeq, MIMFixedLabelAllLabels, MIMFixed_PaddedSeq\n",
        "from parameters.parameters_reader import ParamsTrain\n",
        "\n",
        "from icecream import ic\n",
        "from monitor import Monitor, MonitorNPY, MonitorGenerator, MonitorNPYAndGenerator\n",
        "import natsort\n",
        "from model import NetModel, ModelFit, ModelLoadGenerator, ModelLoadGeneratorDebug, ModelLoadGeneratorWithCoords, ModelLoadEachBatch\n",
        "from dataset import Dataset, DatasetWithCoords\n",
        "\n",
        "from patch_extractor import PatchExtractor\n",
        "ic.configureOutput(includeContext=False)\n",
        "np.random.seed(2021)\n",
        "tf.set_random_seed(2021)\n",
        "\n",
        "from main import TrainTest"
      ],
      "execution_count": 6,
      "outputs": [
        {
          "output_type": "stream",
          "text": [
            "Using TensorFlow backend.\n"
          ],
          "name": "stderr"
        },
        {
          "output_type": "stream",
          "text": [
            "['parameters_openset_specifyunknownclasses.json', 'parameters_openset_lessclass8.json', 'no_mode.json', 'twokkc_parameters_closedset_groupclasses.json', 'twokkc_parameters_openset.json', 'allkkc_parameters_openset.json', 'cv', 'parameters_closedset_groupclasses_lessclass8.json', 'save_nonaugmented_train_patches_lessclass8.json', 'parameters_reader.py', 'parameters_openset.json', '__pycache__', 'parameters_closedset_groupclasses.json', 'twokkc_save_nonaugmented_train_patches.json', 'save_nonaugmented_train_patches_unknownclasses.json', 'allkkc_save_nonaugmented_train_patches.json', 'save_nonaugmented_train_patches.json', '__init__.py']\n"
          ],
          "name": "stdout"
        },
        {
          "output_type": "stream",
          "text": [
            "ic| self.seq_date: 'jun'\n"
          ],
          "name": "stderr"
        },
        {
          "output_type": "stream",
          "text": [
            "self.known_classes [1, 2, 6, 8]\n",
            "[@debug] paramsTrain.seq_mode = fixed\n",
            "[@debug] paramsTrain.mim = <model_input_mode.MIMFixed_PaddedSeq object at 0x7f80c6e93b50>\n"
          ],
          "name": "stdout"
        }
      ]
    },
    {
      "cell_type": "code",
      "metadata": {
        "id": "uIs_yF23Psa_",
        "colab": {
          "base_uri": "https://localhost:8080/"
        },
        "outputId": "6395e54f-7294-4631-a859-f5c26735fd39"
      },
      "source": [
        "!nvidia-smi"
      ],
      "execution_count": 7,
      "outputs": [
        {
          "output_type": "stream",
          "text": [
            "Tue Jul 20 19:41:21 2021       \n",
            "+-----------------------------------------------------------------------------+\n",
            "| NVIDIA-SMI 470.42.01    Driver Version: 460.32.03    CUDA Version: 11.2     |\n",
            "|-------------------------------+----------------------+----------------------+\n",
            "| GPU  Name        Persistence-M| Bus-Id        Disp.A | Volatile Uncorr. ECC |\n",
            "| Fan  Temp  Perf  Pwr:Usage/Cap|         Memory-Usage | GPU-Util  Compute M. |\n",
            "|                               |                      |               MIG M. |\n",
            "|===============================+======================+======================|\n",
            "|   0  Tesla P100-PCIE...  Off  | 00000000:00:04.0 Off |                    0 |\n",
            "| N/A   42C    P0    29W / 250W |      0MiB / 16280MiB |      0%      Default |\n",
            "|                               |                      |                  N/A |\n",
            "+-------------------------------+----------------------+----------------------+\n",
            "                                                                               \n",
            "+-----------------------------------------------------------------------------+\n",
            "| Processes:                                                                  |\n",
            "|  GPU   GI   CI        PID   Type   Process name                  GPU Memory |\n",
            "|        ID   ID                                                   Usage      |\n",
            "|=============================================================================|\n",
            "|  No running processes found                                                 |\n",
            "+-----------------------------------------------------------------------------+\n"
          ],
          "name": "stdout"
        }
      ]
    },
    {
      "cell_type": "code",
      "metadata": {
        "id": "On6HSUJwDsCU",
        "colab": {
          "base_uri": "https://localhost:8080/"
        },
        "outputId": "98177b36-8a8a-44cd-f980-66d63f56ae91"
      },
      "source": [
        "\n",
        "\n",
        "paramsTrain = ParamsTrain('parameters/')\n",
        "paramsTrain.mim = MIMFixed_PaddedSeq()\n",
        "\n",
        "paramsTrain.dataSource = SARSource()\n",
        "\n",
        "trainTest = TrainTest(paramsTrain)\n",
        "\n",
        "patchExtractor = PatchExtractor(paramsTrain, trainTest.ds)\t\n"
      ],
      "execution_count": 8,
      "outputs": [
        {
          "output_type": "stream",
          "text": [
            "['parameters_openset_specifyunknownclasses.json', 'parameters_openset_lessclass8.json', 'no_mode.json', 'twokkc_parameters_closedset_groupclasses.json', 'twokkc_parameters_openset.json', 'allkkc_parameters_openset.json', 'cv', 'parameters_closedset_groupclasses_lessclass8.json', 'save_nonaugmented_train_patches_lessclass8.json', 'parameters_reader.py', 'parameters_openset.json', '__pycache__', 'parameters_closedset_groupclasses.json', 'twokkc_save_nonaugmented_train_patches.json', 'save_nonaugmented_train_patches_unknownclasses.json', 'allkkc_save_nonaugmented_train_patches.json', 'save_nonaugmented_train_patches.json', '__init__.py']\n"
          ],
          "name": "stdout"
        },
        {
          "output_type": "stream",
          "text": [
            "ic| self.seq_date: 'jun'\n"
          ],
          "name": "stderr"
        },
        {
          "output_type": "stream",
          "text": [
            "self.known_classes [1, 2, 6, 8]\n",
            "[@debug] self.ds = <dataSource.CampoVerde object at 0x7f80c10a6a90>\n",
            "20151029\n",
            "20151110\n",
            "20151122\n",
            "20151204\n",
            "20151216\n",
            "20160121\n",
            "20160214\n",
            "20160309\n",
            "20160321\n",
            "20160508\n",
            "20160520\n",
            "20160613\n",
            "dotys_sin_cos.shape (12, 2)\n",
            "[302, 314, 326, 338, 350, 21, 45, 69, 81, 129, 141, 165]\n",
            "[[0.05084 0.7197 ]\n",
            " [0.1053  0.807  ]\n",
            " [0.1764  0.8813 ]\n",
            " [0.2612  0.9395 ]\n",
            " [0.3562  0.979  ]\n",
            " [0.6685  0.9707 ]\n",
            " [0.843   0.8643 ]\n",
            " [0.96    0.6963 ]\n",
            " [0.99    0.598  ]\n",
            " [0.905   0.2068 ]\n",
            " [0.8364  0.1301 ]\n",
            " [0.66    0.02637]]\n"
          ],
          "name": "stdout"
        },
        {
          "output_type": "stream",
          "text": [
            "ic| self.dataSource: <dataSource.SARSource object at 0x7f80c10a6a50>\n",
            "ic| self.conf['path']/self.label_folder/\"/\": PosixPath('/')\n",
            "ic| self.conf[\"in_npy_path\"]: PosixPath('../../../dataset/dataset/cv_data/in_sar')\n",
            "ic| self.conf[\"train\"][\"mask\"][\"dir\"]: PosixPath('../../../dataset/dataset/cv_data/TrainTestMask.tif')\n",
            "ic| os.getcwd(): '/content/FCN_ConvLSTM_Crop_Recognition_Open_Set/networks/convlstm_networks/train_src'\n"
          ],
          "name": "stderr"
        }
      ]
    },
    {
      "cell_type": "markdown",
      "metadata": {
        "id": "eqA-z0Ju9-xO"
      },
      "source": [
        "## Download or load sequence of images\n"
      ]
    },
    {
      "cell_type": "code",
      "metadata": {
        "id": "8BaFQV6M9yKS",
        "colab": {
          "base_uri": "https://localhost:8080/"
        },
        "outputId": "27a0d66a-cf8c-4ac5-a3fc-61fd4a452a43"
      },
      "source": [
        "if paramsTrain.getFullIms == True:\n",
        "  patchExtractor.getFullIms()\t\n",
        "else:\n",
        "  patchExtractor.fullImsLoad()\n"
      ],
      "execution_count": 9,
      "outputs": [
        {
          "output_type": "stream",
          "text": [
            "ic| patch[\"full_ims\"].shape: (12, 8492, 7995, 2)\n",
            "ic| self.dataset.im_list: ['20151029_S1',\n",
            "                           '20151110_S1',\n",
            "                           '20151122_S1',\n",
            "                           '20151204_S1',\n",
            "                           '20151216_S1',\n",
            "                           '20160121_S1',\n",
            "                           '20160214_S1',\n",
            "                           '20160309_S1',\n",
            "                           '20160321_S1',\n",
            "                           '20160508_S1',\n",
            "                           '20160520_S1',\n",
            "                           '20160613_S1']\n"
          ],
          "name": "stderr"
        },
        {
          "output_type": "stream",
          "text": [
            "0 0\n",
            "[@debug] conf[\"in_npy_path\"]/(im_names[t_step]+\".npy\") = ../../../dataset/dataset/cv_data/in_sar/20151029_S1.npy\n",
            "[@debug] patch[\"full_ims\"].dtype = float16\n",
            "[@debug] np.average(patch[\"full_ims\"][t_step]) = 0.1871337890625\n",
            "[@debug] np.max(patch[\"full_ims\"][t_step]) = 1.0\n",
            "[@debug] np.min(patch[\"full_ims\"][t_step]) = 4.172325134277344e-07\n",
            "../../../dataset/dataset/cv_data/labels/20151029_S1.tif\n",
            "[@debug] conf[\"path\"]/(self.dataSource.label_folder+\"/\"+label_names[t_step]+\".tif\") = ../../../dataset/dataset/cv_data/labels/20151029_S1.tif\n",
            "[@debug] np.unique(patch[\"full_label_ims\"][t_step],return_counts=True) = (array([ 0,  1,  2,  6,  7,  8,  9, 10, 11], dtype=int8), array([61778564,    45178,    51808,   131138,   438371,   155189,\n",
            "        5136068,     1007,   156217]))\n",
            "1 0\n",
            "[@debug] conf[\"in_npy_path\"]/(im_names[t_step]+\".npy\") = ../../../dataset/dataset/cv_data/in_sar/20151110_S1.npy\n",
            "[@debug] patch[\"full_ims\"].dtype = float16\n",
            "[@debug] np.average(patch[\"full_ims\"][t_step]) = 0.180419921875\n",
            "[@debug] np.max(patch[\"full_ims\"][t_step]) = 1.9267578125\n",
            "[@debug] np.min(patch[\"full_ims\"][t_step]) = 2.384185791015625e-07\n",
            "../../../dataset/dataset/cv_data/labels/20151110_S1.tif\n",
            "[@debug] conf[\"path\"]/(self.dataSource.label_folder+\"/\"+label_names[t_step]+\".tif\") = ../../../dataset/dataset/cv_data/labels/20151110_S1.tif\n",
            "[@debug] np.unique(patch[\"full_label_ims\"][t_step],return_counts=True) = (array([ 0,  1,  2,  5,  6,  7,  8,  9, 10, 11], dtype=int8), array([61778564,  1524080,    27056,    11783,   432952,   419824,\n",
            "         155189,  3386868,     1007,   156217]))\n",
            "2 0\n",
            "[@debug] conf[\"in_npy_path\"]/(im_names[t_step]+\".npy\") = ../../../dataset/dataset/cv_data/in_sar/20151122_S1.npy\n",
            "[@debug] patch[\"full_ims\"].dtype = float16\n",
            "[@debug] np.average(patch[\"full_ims\"][t_step]) = 0.1802978515625\n",
            "[@debug] np.max(patch[\"full_ims\"][t_step]) = 1.7099609375\n",
            "[@debug] np.min(patch[\"full_ims\"][t_step]) = 2.384185791015625e-07\n",
            "../../../dataset/dataset/cv_data/labels/20151122_S1.tif\n",
            "[@debug] conf[\"path\"]/(self.dataSource.label_folder+\"/\"+label_names[t_step]+\".tif\") = ../../../dataset/dataset/cv_data/labels/20151122_S1.tif\n",
            "[@debug] np.unique(patch[\"full_label_ims\"][t_step],return_counts=True) = (array([ 0,  1,  2,  5,  6,  7,  8,  9, 10, 11], dtype=int8), array([61778564,  1524080,    27056,    11783,   432952,   419824,\n",
            "         155189,  3386868,     1007,   156217]))\n",
            "3 0\n",
            "[@debug] conf[\"in_npy_path\"]/(im_names[t_step]+\".npy\") = ../../../dataset/dataset/cv_data/in_sar/20151204_S1.npy\n",
            "[@debug] patch[\"full_ims\"].dtype = float16\n",
            "[@debug] np.average(patch[\"full_ims\"][t_step]) = 0.1793212890625\n",
            "[@debug] np.max(patch[\"full_ims\"][t_step]) = 3.447265625\n",
            "[@debug] np.min(patch[\"full_ims\"][t_step]) = 1.1920928955078125e-07\n",
            "../../../dataset/dataset/cv_data/labels/20151204_S1.tif\n",
            "[@debug] conf[\"path\"]/(self.dataSource.label_folder+\"/\"+label_names[t_step]+\".tif\") = ../../../dataset/dataset/cv_data/labels/20151204_S1.tif\n",
            "[@debug] np.unique(patch[\"full_label_ims\"][t_step],return_counts=True) = (array([ 0,  1,  2,  3,  4,  5,  6,  7,  8,  9, 10, 11], dtype=int8), array([61778564,  4496663,    35095,    18211,     2197,    11783,\n",
            "         366875,   419824,   155189,   451915,     1007,   156217]))\n",
            "4 0\n",
            "[@debug] conf[\"in_npy_path\"]/(im_names[t_step]+\".npy\") = ../../../dataset/dataset/cv_data/in_sar/20151216_S1.npy\n",
            "[@debug] patch[\"full_ims\"].dtype = float16\n",
            "[@debug] np.average(patch[\"full_ims\"][t_step]) = 0.1737060546875\n",
            "[@debug] np.max(patch[\"full_ims\"][t_step]) = 1.373046875\n",
            "[@debug] np.min(patch[\"full_ims\"][t_step]) = 1.7881393432617188e-07\n",
            "../../../dataset/dataset/cv_data/labels/20151216_S1.tif\n",
            "[@debug] conf[\"path\"]/(self.dataSource.label_folder+\"/\"+label_names[t_step]+\".tif\") = ../../../dataset/dataset/cv_data/labels/20151216_S1.tif\n",
            "[@debug] np.unique(patch[\"full_label_ims\"][t_step],return_counts=True) = (array([ 0,  1,  2,  3,  4,  5,  6,  7,  8,  9, 10, 11], dtype=int8), array([61778564,  4496663,    35095,    18211,     2197,    11783,\n",
            "         366875,   419824,   155189,   451915,     1007,   156217]))\n",
            "5 0\n",
            "[@debug] conf[\"in_npy_path\"]/(im_names[t_step]+\".npy\") = ../../../dataset/dataset/cv_data/in_sar/20160121_S1.npy\n",
            "[@debug] patch[\"full_ims\"].dtype = float16\n",
            "[@debug] np.average(patch[\"full_ims\"][t_step]) = 0.159912109375\n",
            "[@debug] np.max(patch[\"full_ims\"][t_step]) = 138.0\n",
            "[@debug] np.min(patch[\"full_ims\"][t_step]) = 3.2186508178710938e-06\n",
            "../../../dataset/dataset/cv_data/labels/20160121_S1.tif\n",
            "[@debug] conf[\"path\"]/(self.dataSource.label_folder+\"/\"+label_names[t_step]+\".tif\") = ../../../dataset/dataset/cv_data/labels/20160121_S1.tif\n",
            "[@debug] np.unique(patch[\"full_label_ims\"][t_step],return_counts=True) = (array([ 0,  1,  2,  3,  4,  6,  7,  8,  9, 10, 11], dtype=int8), array([61778564,  2956904,     8039,    18211,     2197,     8859,\n",
            "         419824,   155189,  2388529,     1007,   156217]))\n",
            "6 0\n",
            "[@debug] conf[\"in_npy_path\"]/(im_names[t_step]+\".npy\") = ../../../dataset/dataset/cv_data/in_sar/20160214_S1.npy\n",
            "[@debug] patch[\"full_ims\"].dtype = float16\n",
            "[@debug] np.average(patch[\"full_ims\"][t_step]) = 0.171630859375\n",
            "[@debug] np.max(patch[\"full_ims\"][t_step]) = 1.4169921875\n",
            "[@debug] np.min(patch[\"full_ims\"][t_step]) = 7.748603820800781e-07\n",
            "../../../dataset/dataset/cv_data/labels/20160214_S1.tif\n",
            "[@debug] conf[\"path\"]/(self.dataSource.label_folder+\"/\"+label_names[t_step]+\".tif\") = ../../../dataset/dataset/cv_data/labels/20160214_S1.tif\n",
            "[@debug] np.unique(patch[\"full_label_ims\"][t_step],return_counts=True) = (array([ 0,  1,  2,  3,  4,  6,  7,  8,  9, 10, 11], dtype=int8), array([61778564,  2183414,     8039,   116684,     2197,     8006,\n",
            "         419824,   155189,  3064399,     1007,   156217]))\n",
            "7 0\n",
            "[@debug] conf[\"in_npy_path\"]/(im_names[t_step]+\".npy\") = ../../../dataset/dataset/cv_data/in_sar/20160309_S1.npy\n",
            "[@debug] patch[\"full_ims\"].dtype = float16\n",
            "[@debug] np.average(patch[\"full_ims\"][t_step]) = 0.188232421875\n",
            "[@debug] np.max(patch[\"full_ims\"][t_step]) = 2.869140625\n",
            "[@debug] np.min(patch[\"full_ims\"][t_step]) = 3.5762786865234375e-07\n",
            "../../../dataset/dataset/cv_data/labels/20160309_S1.tif\n",
            "[@debug] conf[\"path\"]/(self.dataSource.label_folder+\"/\"+label_names[t_step]+\".tif\") = ../../../dataset/dataset/cv_data/labels/20160309_S1.tif\n",
            "[@debug] np.unique(patch[\"full_label_ims\"][t_step],return_counts=True) = (array([ 0,  1,  2,  3,  4,  6,  7,  8,  9, 10, 11], dtype=int8), array([61778564,    10049,   900649,  2084968,     2197,     8006,\n",
            "         419824,   155189,  2376870,     1007,   156217]))\n",
            "8 0\n",
            "[@debug] conf[\"in_npy_path\"]/(im_names[t_step]+\".npy\") = ../../../dataset/dataset/cv_data/in_sar/20160321_S1.npy\n",
            "[@debug] patch[\"full_ims\"].dtype = float16\n",
            "[@debug] np.average(patch[\"full_ims\"][t_step]) = 0.16064453125\n",
            "[@debug] np.max(patch[\"full_ims\"][t_step]) = 3.5390625\n",
            "[@debug] np.min(patch[\"full_ims\"][t_step]) = 0.0\n",
            "../../../dataset/dataset/cv_data/labels/20160321_S1.tif\n",
            "[@debug] conf[\"path\"]/(self.dataSource.label_folder+\"/\"+label_names[t_step]+\".tif\") = ../../../dataset/dataset/cv_data/labels/20160321_S1.tif\n",
            "[@debug] np.unique(patch[\"full_label_ims\"][t_step],return_counts=True) = (array([ 0,  1,  2,  3,  4,  6,  7,  8,  9, 10, 11], dtype=int8), array([61778564,    10049,   900649,  2084968,     2197,     8006,\n",
            "         419824,   155189,  2376870,     1007,   156217]))\n",
            "9 0\n",
            "[@debug] conf[\"in_npy_path\"]/(im_names[t_step]+\".npy\") = ../../../dataset/dataset/cv_data/in_sar/20160508_S1.npy\n",
            "[@debug] patch[\"full_ims\"].dtype = float16\n",
            "[@debug] np.average(patch[\"full_ims\"][t_step]) = 0.154541015625\n",
            "[@debug] np.max(patch[\"full_ims\"][t_step]) = 1.1572265625\n",
            "[@debug] np.min(patch[\"full_ims\"][t_step]) = 0.0\n",
            "../../../dataset/dataset/cv_data/labels/20160508_S1.tif\n",
            "[@debug] conf[\"path\"]/(self.dataSource.label_folder+\"/\"+label_names[t_step]+\".tif\") = ../../../dataset/dataset/cv_data/labels/20160508_S1.tif\n",
            "[@debug] np.unique(patch[\"full_label_ims\"][t_step],return_counts=True) = (array([ 0,  2,  3,  4,  5,  6,  7,  8,  9, 10, 11], dtype=int8), array([61778564,  2187712,  2771075,    57536,     2285,   236822,\n",
            "         525054,   155189,    22079,     1007,   156217]))\n",
            "10 0\n",
            "[@debug] conf[\"in_npy_path\"]/(im_names[t_step]+\".npy\") = ../../../dataset/dataset/cv_data/in_sar/20160520_S1.npy\n",
            "[@debug] patch[\"full_ims\"].dtype = float16\n",
            "[@debug] np.average(patch[\"full_ims\"][t_step]) = 0.16552734375\n",
            "[@debug] np.max(patch[\"full_ims\"][t_step]) = 3.634765625\n",
            "[@debug] np.min(patch[\"full_ims\"][t_step]) = 0.0\n",
            "../../../dataset/dataset/cv_data/labels/20160520_S1.tif\n",
            "[@debug] conf[\"path\"]/(self.dataSource.label_folder+\"/\"+label_names[t_step]+\".tif\") = ../../../dataset/dataset/cv_data/labels/20160520_S1.tif\n",
            "[@debug] np.unique(patch[\"full_label_ims\"][t_step],return_counts=True) = (array([ 0,  2,  3,  4,  5,  6,  7,  8,  9, 10, 11], dtype=int8), array([61778564,  2187712,  2771075,    57536,     2285,   236822,\n",
            "         525054,   155189,    22079,     1007,   156217]))\n",
            "11 0\n",
            "[@debug] conf[\"in_npy_path\"]/(im_names[t_step]+\".npy\") = ../../../dataset/dataset/cv_data/in_sar/20160613_S1.npy\n",
            "[@debug] patch[\"full_ims\"].dtype = float16\n",
            "[@debug] np.average(patch[\"full_ims\"][t_step]) = 0.140380859375\n",
            "[@debug] np.max(patch[\"full_ims\"][t_step]) = 4.57421875\n",
            "[@debug] np.min(patch[\"full_ims\"][t_step]) = 0.0\n",
            "../../../dataset/dataset/cv_data/labels/20160613_S1.tif\n",
            "[@debug] conf[\"path\"]/(self.dataSource.label_folder+\"/\"+label_names[t_step]+\".tif\") = ../../../dataset/dataset/cv_data/labels/20160613_S1.tif\n",
            "[@debug] np.unique(patch[\"full_label_ims\"][t_step],return_counts=True) = (array([ 0,  2,  3,  4,  6,  7,  8,  9, 10, 11], dtype=int8), array([61778564,  1441022,  2573657,    57536,   225585,   525054,\n",
            "         155189,   979709,     1007,   156217]))\n"
          ],
          "name": "stdout"
        },
        {
          "output_type": "stream",
          "text": [
            "ic| patch[\"full_ims\"].shape: (12, 8492, 7995, 2)\n",
            "ic| patch[\"full_label_ims\"].shape: (12, 8492, 7995)\n",
            "ic| patch[\"full_ims\"].dtype: dtype('float16')\n",
            "ic| patch[\"full_label_ims\"].dtype: dtype('int8')\n"
          ],
          "name": "stderr"
        },
        {
          "output_type": "stream",
          "text": [
            "[@debug] np.unique(patch['full_label_ims'],return_counts=True) = (array([ 0,  1,  2,  3,  4,  5,  6,  7,  8,  9, 10, 11], dtype=int8), array([741342768,  17247080,   7809932,  12457060,    185790,     51702,\n",
            "         2462898,   5372125,   1862268,  24044169,     12084,   1874604]))\n",
            "0.0 1.0 0.1702\n",
            "[@debug] self.dataset.name = cv\n",
            "[@debug] self.dataset.scaler_name = cv\n",
            "[@debug] self.dataset.seq_mode = fixed\n",
            "[@debug] self.dataset.seq_date = jun\n",
            "[@debug] self.dataset.scaler_load = False\n",
            "[@debug] im.shape = (12, 8492, 7995, 2)\n",
            "[@debug] im_flat[mask_flat==1,:].shape = (38664648, 2)\n",
            "0.0001407 1.0 0.0779\n",
            "[@debug] im_norm.shape = (12, 8492, 7995, 2)\n",
            "FINISHED NORMALIZING, RESULT:\n",
            "-1.432 51.53 3.117\n",
            "[@debug] im.shape = (12, 8492, 7995)\n",
            "[@debug] mask_train.shape = (8492, 7995)\n",
            "[@debug] im.dtype = uint8\n",
            "[@debug] mask_train.dtype = uint8\n",
            "[@debug] im_train.shape = (12, 8492, 7995)\n",
            "Train masked unique/count [ 0  1  2  3  4  5  6  7  8  9 10 11] [776057832   9399025   4170646   6930141    103494     34628   1280237\n",
            "   2371008    861648  12705225      8388    800208]\n",
            "Test masked unique/count [ 0  1  2  3  4  5  6  7  8  9 10 11] [780007416   7848055   3639286   5526919     82296     17074   1182661\n",
            "   3001117   1000620  11338944      3696   1074396]\n"
          ],
          "name": "stdout"
        },
        {
          "output_type": "stream",
          "text": [
            "ic| self.paramsTrain.path / 'full_ims/full_ims_test.npy': PosixPath('../../../dataset/dataset/cv_data/full_ims/full_ims_test.npy')\n"
          ],
          "name": "stderr"
        }
      ]
    },
    {
      "cell_type": "markdown",
      "metadata": {
        "id": "R5FPmIpS-Hqu"
      },
      "source": [
        "## Extract coords of image patches"
      ]
    },
    {
      "cell_type": "code",
      "metadata": {
        "id": "2XzJoNO896wl",
        "colab": {
          "base_uri": "https://localhost:8080/"
        },
        "outputId": "c8c4f175-108b-4b16-9aa1-f774e62af758"
      },
      "source": [
        "\n",
        "if paramsTrain.coordsExtract == True:\n",
        "  patchExtractor.extract()\n",
        "\n",
        "del patchExtractor\n"
      ],
      "execution_count": 10,
      "outputs": [
        {
          "output_type": "stream",
          "text": [
            "STARTED PATCH EXTRACTION\n",
            "[@debug] gridx.shape = (250,)\n",
            "[@debug] gridy.shape = (266,)\n"
          ],
          "name": "stdout"
        },
        {
          "output_type": "stream",
          "text": [
            "ic| coords_train.shape: (4983, 2), coords_test.shape: (4626, 2)\n",
            "ic| coords_train.dtype: dtype('int64')\n",
            "ic| coords_train[0]: array([7568,  656])\n"
          ],
          "name": "stderr"
        }
      ]
    },
    {
      "cell_type": "markdown",
      "metadata": {
        "id": "2fhs6GZ4qFMx"
      },
      "source": [
        "## Train and evaluate\n"
      ]
    },
    {
      "cell_type": "code",
      "metadata": {
        "id": "TZztSJXG977M",
        "colab": {
          "base_uri": "https://localhost:8080/"
        },
        "outputId": "44a07e14-bd62-402b-91da-af2bbff11fca"
      },
      "source": [
        "\n",
        "model_name_id = 'model_best_' + paramsTrain.model_type + '_' + \\\n",
        "    paramsTrain.seq_date + '_' + paramsTrain.dataset + '_' + \\\n",
        "    paramsTrain.model_name + '.h5'\n",
        "\n",
        "if paramsTrain.train == True:\n",
        "  trainTest.trainAndEvaluate(model_name_id)"
      ],
      "execution_count": null,
      "outputs": [
        {
          "output_type": "stream",
          "text": [
            "ic| self.model_name: 'model_best_UUnet4ConvLSTM_jun_cv_nomode.h5'\n"
          ],
          "name": "stderr"
        },
        {
          "output_type": "stream",
          "text": [
            "Initializing object...\n",
            "12 2\n",
            "[@debug] self.channel_n = 2\n",
            "[@debug] self.t_len = 12\n",
            "Initializing Dataset instance\n"
          ],
          "name": "stdout"
        },
        {
          "output_type": "stream",
          "text": [
            "ic| os.path.dirname(os.path.abspath(__file__)): '/content/FCN_ConvLSTM_Crop_Recognition_Open_Set/networks/convlstm_networks/train_src'\n",
            "ic| os.getcwd(): '/content/FCN_ConvLSTM_Crop_Recognition_Open_Set/networks/convlstm_networks/train_src'\n",
            "ic| self.patches['train']['coords'].shape: (4983, 2)\n",
            "ic| np.unique(self.full_label_train, return_counts=True): (array([ 0,  2,  3,  4,  6,  7,  8,  9, 10, 11], dtype=uint8),\n",
            "                                                           array([64671486,   710232,  1374508,    31550,   136800,   212701,\n",
            "                                                                    71804,   617076,      699,    66684]))\n",
            "ic| np.unique(self.full_label_test, return_counts=True): (array([ 0,  2,  3,  4,  6,  7,  8,  9, 10, 11], dtype=uint8),\n",
            "                                                          array([65000618,   730790,  1199149,    25986,    88785,   312353,\n",
            "                                                                   83385,   362633,      308,    89533]))\n",
            "ic| self.paramsTrain.known_classes: array([ 1,  2,  3,  5,  6,  7,  8,  9, 10], dtype=uint8)\n",
            "ic| np.unique(self.full_label_train, return_counts=True): (array([ 0,  2,  3,  4,  6,  7,  8,  9, 10, 11], dtype=uint8),\n",
            "                                                           array([64671486,   710232,  1374508,    31550,   136800,   212701,\n",
            "                                                                    71804,   617076,      699,    66684]))\n",
            "ic| self.classes: array([ 0,  2,  3,  4,  6,  7,  8,  9, 10, 11], dtype=uint8)\n"
          ],
          "name": "stderr"
        },
        {
          "output_type": "stream",
          "text": [
            "[@debug] np.unique(self.full_label_train, return_counts=True) = (array([ 0,  2,  3,  4,  6,  7,  8,  9, 10, 11], dtype=uint8), array([64671486,   710232,  1374508,    31550,   136800,   212701,\n",
            "          71804,   617076,      699,    66684]))\n"
          ],
          "name": "stdout"
        },
        {
          "output_type": "stream",
          "text": [
            "ic| self.labels2new_labels: {0: 0, 2: 1, 3: 2, 4: 3, 6: 4, 7: 5, 8: 6, 9: 7, 10: 8, 11: 9}\n",
            "    self.new_labels2labels: {0: 0, 1: 2, 2: 3, 3: 4, 4: 6, 5: 7, 6: 8, 7: 9, 8: 10, 9: 11}\n"
          ],
          "name": "stderr"
        },
        {
          "output_type": "stream",
          "text": [
            "Transforming labels2new_labels...\n",
            "Transformed labels2new_labels. Moving bcknd to last...\n",
            "[@debug] dict_filename = new_labels2labels_cv_20160613_S1.pkl\n",
            "[@debug] self.new_labels2labels = {0: 0, 1: 2, 2: 3, 3: 4, 4: 6, 5: 7, 6: 8, 7: 9, 8: 10, 9: 11}\n"
          ],
          "name": "stdout"
        },
        {
          "output_type": "stream",
          "text": [
            "ic| np.unique(self.full_label_train, return_counts=True): (array([0, 1, 2, 3, 4, 5, 6, 7, 8, 9], dtype=uint8),\n",
            "                                                           array([64671486,   710232,  1374508,    31550,   136800,   212701,\n",
            "                                                                    71804,   617076,      699,    66684]))\n"
          ],
          "name": "stderr"
        },
        {
          "output_type": "stream",
          "text": [
            "Moved bcknd to last\n"
          ],
          "name": "stdout"
        },
        {
          "output_type": "stream",
          "text": [
            "ic| np.unique(self.full_label_train, return_counts=True): (array([0, 1, 2, 3, 4, 5, 6, 7, 8, 9], dtype=uint8),\n",
            "                                                           array([  710232,  1374508,    31550,   136800,   212701,    71804,\n",
            "                                                                   617076,      699,    66684, 64671486]))\n",
            "ic| np.unique(self.full_label_test, return_counts=True): (array([0, 1, 2, 3, 4, 5, 6, 7, 8, 9], dtype=uint8),\n",
            "                                                          array([  730790,  1199149,    25986,    88785,   312353,    83385,\n",
            "                                                                  362633,      308,    89533, 65000618]))\n",
            "ic| self.class_n: 10\n",
            "ic| self.patches['train']['label'].shape: (4983, 32, 32)\n",
            "ic| np.unique(self.patches['train']['label'], return_counts = True): (array([0, 1, 2, 3, 4, 5, 6, 7, 8, 9]),\n",
            "                                                                      array([ 710232, 1374508,   31550,  136800,  212701,   71804,  617076,\n",
            "                                                                                699,   66684, 1880538]))\n",
            "ic| self.patches['test']['label'].shape: (4626, 32, 32)\n",
            "ic| np.unique(self.patches['test']['label'], return_counts = True): (array([0, 1, 2, 3, 4, 5, 6, 7, 8, 9]),\n",
            "                                                                     array([ 730790, 1199149,   25986,   88785,  312353,   83385,  362633,\n",
            "                                                                               308,   89533, 1844102]))\n",
            "ic| self.paramsTrain.class_n: 10\n"
          ],
          "name": "stderr"
        },
        {
          "output_type": "stream",
          "text": [
            "WARNING:tensorflow:From /tensorflow-1.15.2/python3.7/tensorflow_core/python/ops/resource_variable_ops.py:1630: calling BaseResourceVariable.__init__ (from tensorflow.python.ops.resource_variable_ops) with constraint is deprecated and will be removed in a future version.\n",
            "Instructions for updating:\n",
            "If using Keras pass *_constraint arguments to layers.\n",
            "Initializing object...\n",
            "12 2\n",
            "[@debug] self.channel_n = 2\n",
            "[@debug] self.t_len = 12\n",
            "Initializing Model instance\n",
            "[@debug] self.mp = {'dense': {'recurrent_filters': 128, 'nb_dense_block': 2, 'growth_rate': 64, 'nb_layers_per_block': 1}, 'unet': {'recurrent_filters': 128, 'filter_size': 16}, 'atrous': {'recurrent_filters': 128, 'filter_size': 16, 'dilation_rate_mode': 'auto', 'dilation_rates': [1, 2, 4, 8]}}\n",
            "[@debug] self.stop_epoch = 400\n",
            "[@debug] data.class_n = 10\n",
            "[@debug] self.t_len = 12\n",
            "[@debug] self.model_t_len = 12\n",
            "WARNING:tensorflow:From /tensorflow-1.15.2/python3.7/keras/backend/tensorflow_backend.py:4074: The name tf.nn.avg_pool is deprecated. Please use tf.nn.avg_pool2d instead.\n",
            "\n",
            "[@debug] output_shape = (None, 8, 8, 64)\n",
            "[@debug] K.int_shape(x) = (None, 12, 8, 8, 64)\n",
            "[@debug] K.int_shape(res2) = (None, 8, 8, 64)\n",
            "[@debug] K.int_shape(p3) = (None, 8, 8, 64)\n",
            "[@debug] K.int_shape(d3) = (None, 8, 8, 64)\n",
            "[@debug] output_shape = (None, 16, 16, 32)\n",
            "[@debug] K.int_shape(x) = (None, 12, 16, 16, 32)\n",
            "[@debug] K.int_shape(res2) = (None, 16, 16, 32)\n",
            "[@debug] K.int_shape(p2) = (None, 16, 16, 32)\n",
            "[@debug] K.int_shape(d2) = (None, 16, 16, 32)\n",
            "[@debug] output_shape = (None, 32, 32, 16)\n",
            "[@debug] K.int_shape(x) = (None, 12, 32, 32, 16)\n",
            "[@debug] K.int_shape(res2) = (None, 32, 32, 16)\n",
            "[@debug] K.int_shape(p1) = (None, 32, 32, 16)\n",
            "[@debug] K.int_shape(d1) = (None, 32, 32, 16)\n",
            "Model: \"model_1\"\n",
            "__________________________________________________________________________________________________\n",
            "Layer (type)                    Output Shape         Param #     Connected to                     \n",
            "==================================================================================================\n",
            "input_1 (InputLayer)            (None, 12, 32, 32, 2 0                                            \n",
            "__________________________________________________________________________________________________\n",
            "time_distributed_1 (TimeDistrib (None, 12, 32, 32, 1 304         input_1[0][0]                    \n",
            "__________________________________________________________________________________________________\n",
            "batch_normalization_1 (BatchNor (None, 12, 32, 32, 1 64          time_distributed_1[0][0]         \n",
            "__________________________________________________________________________________________________\n",
            "activation_1 (Activation)       (None, 12, 32, 32, 1 0           batch_normalization_1[0][0]      \n",
            "__________________________________________________________________________________________________\n",
            "time_distributed_2 (TimeDistrib (None, 12, 32, 32, 1 2320        activation_1[0][0]               \n",
            "__________________________________________________________________________________________________\n",
            "batch_normalization_2 (BatchNor (None, 12, 32, 32, 1 64          time_distributed_2[0][0]         \n",
            "__________________________________________________________________________________________________\n",
            "activation_2 (Activation)       (None, 12, 32, 32, 1 0           batch_normalization_2[0][0]      \n",
            "__________________________________________________________________________________________________\n",
            "time_distributed_3 (TimeDistrib (None, 12, 16, 16, 1 0           activation_2[0][0]               \n",
            "__________________________________________________________________________________________________\n",
            "time_distributed_4 (TimeDistrib (None, 12, 16, 16, 3 4640        time_distributed_3[0][0]         \n",
            "__________________________________________________________________________________________________\n",
            "batch_normalization_3 (BatchNor (None, 12, 16, 16, 3 128         time_distributed_4[0][0]         \n",
            "__________________________________________________________________________________________________\n",
            "activation_3 (Activation)       (None, 12, 16, 16, 3 0           batch_normalization_3[0][0]      \n",
            "__________________________________________________________________________________________________\n",
            "time_distributed_5 (TimeDistrib (None, 12, 8, 8, 32) 0           activation_3[0][0]               \n",
            "__________________________________________________________________________________________________\n",
            "time_distributed_6 (TimeDistrib (None, 12, 8, 8, 64) 18496       time_distributed_5[0][0]         \n",
            "__________________________________________________________________________________________________\n",
            "batch_normalization_4 (BatchNor (None, 12, 8, 8, 64) 256         time_distributed_6[0][0]         \n",
            "__________________________________________________________________________________________________\n",
            "activation_4 (Activation)       (None, 12, 8, 8, 64) 0           batch_normalization_4[0][0]      \n",
            "__________________________________________________________________________________________________\n",
            "time_distributed_7 (TimeDistrib (None, 12, 4, 4, 64) 0           activation_4[0][0]               \n",
            "__________________________________________________________________________________________________\n",
            "conv_lst_m2d_1 (ConvLSTM2D)     (None, 4, 4, 256)    2950144     time_distributed_7[0][0]         \n",
            "__________________________________________________________________________________________________\n",
            "conv2d_transpose_1 (Conv2DTrans (None, 8, 8, 64)     147520      conv_lst_m2d_1[0][0]             \n",
            "__________________________________________________________________________________________________\n",
            "batch_normalization_5 (BatchNor (None, 8, 8, 64)     256         conv2d_transpose_1[0][0]         \n",
            "__________________________________________________________________________________________________\n",
            "activation_5 (Activation)       (None, 8, 8, 64)     0           batch_normalization_5[0][0]      \n",
            "__________________________________________________________________________________________________\n",
            "lambda_1 (Lambda)               (None, 8, 8, 64)     0           activation_4[0][0]               \n",
            "__________________________________________________________________________________________________\n",
            "concatenate_1 (Concatenate)     (None, 8, 8, 128)    0           activation_5[0][0]               \n",
            "                                                                 lambda_1[0][0]                   \n",
            "__________________________________________________________________________________________________\n",
            "conv2d_5 (Conv2D)               (None, 8, 8, 64)     73792       concatenate_1[0][0]              \n",
            "__________________________________________________________________________________________________\n",
            "batch_normalization_6 (BatchNor (None, 8, 8, 64)     256         conv2d_5[0][0]                   \n",
            "__________________________________________________________________________________________________\n",
            "activation_6 (Activation)       (None, 8, 8, 64)     0           batch_normalization_6[0][0]      \n",
            "__________________________________________________________________________________________________\n",
            "conv2d_transpose_2 (Conv2DTrans (None, 16, 16, 32)   18464       activation_6[0][0]               \n",
            "__________________________________________________________________________________________________\n",
            "batch_normalization_7 (BatchNor (None, 16, 16, 32)   128         conv2d_transpose_2[0][0]         \n",
            "__________________________________________________________________________________________________\n",
            "activation_7 (Activation)       (None, 16, 16, 32)   0           batch_normalization_7[0][0]      \n",
            "__________________________________________________________________________________________________\n",
            "lambda_2 (Lambda)               (None, 16, 16, 32)   0           activation_3[0][0]               \n",
            "__________________________________________________________________________________________________\n",
            "concatenate_2 (Concatenate)     (None, 16, 16, 64)   0           activation_7[0][0]               \n",
            "                                                                 lambda_2[0][0]                   \n",
            "__________________________________________________________________________________________________\n",
            "conv2d_6 (Conv2D)               (None, 16, 16, 32)   18464       concatenate_2[0][0]              \n",
            "__________________________________________________________________________________________________\n",
            "batch_normalization_8 (BatchNor (None, 16, 16, 32)   128         conv2d_6[0][0]                   \n",
            "__________________________________________________________________________________________________\n",
            "activation_8 (Activation)       (None, 16, 16, 32)   0           batch_normalization_8[0][0]      \n",
            "__________________________________________________________________________________________________\n",
            "conv2d_transpose_3 (Conv2DTrans (None, 32, 32, 16)   4624        activation_8[0][0]               \n",
            "__________________________________________________________________________________________________\n",
            "batch_normalization_9 (BatchNor (None, 32, 32, 16)   64          conv2d_transpose_3[0][0]         \n",
            "__________________________________________________________________________________________________\n",
            "activation_9 (Activation)       (None, 32, 32, 16)   0           batch_normalization_9[0][0]      \n",
            "__________________________________________________________________________________________________\n",
            "lambda_3 (Lambda)               (None, 32, 32, 16)   0           activation_2[0][0]               \n",
            "__________________________________________________________________________________________________\n",
            "concatenate_3 (Concatenate)     (None, 32, 32, 32)   0           activation_9[0][0]               \n",
            "                                                                 lambda_3[0][0]                   \n",
            "__________________________________________________________________________________________________\n",
            "conv2d_7 (Conv2D)               (None, 32, 32, 16)   4624        concatenate_3[0][0]              \n",
            "__________________________________________________________________________________________________\n",
            "batch_normalization_10 (BatchNo (None, 32, 32, 16)   64          conv2d_7[0][0]                   \n",
            "__________________________________________________________________________________________________\n",
            "activation_10 (Activation)      (None, 32, 32, 16)   0           batch_normalization_10[0][0]     \n",
            "__________________________________________________________________________________________________\n",
            "conv2d_8 (Conv2D)               (None, 32, 32, 9)    153         activation_10[0][0]              \n",
            "==================================================================================================\n",
            "Total params: 3,244,953\n",
            "Trainable params: 3,244,249\n",
            "Non-trainable params: 704\n",
            "__________________________________________________________________________________________________\n",
            "None\n",
            "Model: \"model_1\"\n",
            "_____________________________________________________________________________________________________________________________\n",
            "Layer (type)                             Output Shape               Param #        Connected to                              \n",
            "=============================================================================================================================\n",
            "input_1 (InputLayer)                     (None, 12, 32, 32, 2)      0                                                        \n",
            "_____________________________________________________________________________________________________________________________\n",
            "time_distributed_1 (TimeDistributed)     (None, 12, 32, 32, 16)     304            input_1[0][0]                             \n",
            "_____________________________________________________________________________________________________________________________\n",
            "batch_normalization_1 (BatchNormalizatio (None, 12, 32, 32, 16)     64             time_distributed_1[0][0]                  \n",
            "_____________________________________________________________________________________________________________________________\n",
            "activation_1 (Activation)                (None, 12, 32, 32, 16)     0              batch_normalization_1[0][0]               \n",
            "_____________________________________________________________________________________________________________________________\n",
            "time_distributed_2 (TimeDistributed)     (None, 12, 32, 32, 16)     2320           activation_1[0][0]                        \n",
            "_____________________________________________________________________________________________________________________________\n",
            "batch_normalization_2 (BatchNormalizatio (None, 12, 32, 32, 16)     64             time_distributed_2[0][0]                  \n",
            "_____________________________________________________________________________________________________________________________\n",
            "activation_2 (Activation)                (None, 12, 32, 32, 16)     0              batch_normalization_2[0][0]               \n",
            "_____________________________________________________________________________________________________________________________\n",
            "time_distributed_3 (TimeDistributed)     (None, 12, 16, 16, 16)     0              activation_2[0][0]                        \n",
            "_____________________________________________________________________________________________________________________________\n",
            "time_distributed_4 (TimeDistributed)     (None, 12, 16, 16, 32)     4640           time_distributed_3[0][0]                  \n",
            "_____________________________________________________________________________________________________________________________\n",
            "batch_normalization_3 (BatchNormalizatio (None, 12, 16, 16, 32)     128            time_distributed_4[0][0]                  \n",
            "_____________________________________________________________________________________________________________________________\n",
            "activation_3 (Activation)                (None, 12, 16, 16, 32)     0              batch_normalization_3[0][0]               \n",
            "_____________________________________________________________________________________________________________________________\n",
            "time_distributed_5 (TimeDistributed)     (None, 12, 8, 8, 32)       0              activation_3[0][0]                        \n",
            "_____________________________________________________________________________________________________________________________\n",
            "time_distributed_6 (TimeDistributed)     (None, 12, 8, 8, 64)       18496          time_distributed_5[0][0]                  \n",
            "_____________________________________________________________________________________________________________________________\n",
            "batch_normalization_4 (BatchNormalizatio (None, 12, 8, 8, 64)       256            time_distributed_6[0][0]                  \n",
            "_____________________________________________________________________________________________________________________________\n",
            "activation_4 (Activation)                (None, 12, 8, 8, 64)       0              batch_normalization_4[0][0]               \n",
            "_____________________________________________________________________________________________________________________________\n",
            "time_distributed_7 (TimeDistributed)     (None, 12, 4, 4, 64)       0              activation_4[0][0]                        \n",
            "_____________________________________________________________________________________________________________________________\n",
            "conv_lst_m2d_1 (ConvLSTM2D)              (None, 4, 4, 256)          2950144        time_distributed_7[0][0]                  \n",
            "_____________________________________________________________________________________________________________________________\n",
            "conv2d_transpose_1 (Conv2DTranspose)     (None, 8, 8, 64)           147520         conv_lst_m2d_1[0][0]                      \n",
            "_____________________________________________________________________________________________________________________________\n",
            "batch_normalization_5 (BatchNormalizatio (None, 8, 8, 64)           256            conv2d_transpose_1[0][0]                  \n",
            "_____________________________________________________________________________________________________________________________\n",
            "activation_5 (Activation)                (None, 8, 8, 64)           0              batch_normalization_5[0][0]               \n",
            "_____________________________________________________________________________________________________________________________\n",
            "lambda_1 (Lambda)                        (None, 8, 8, 64)           0              activation_4[0][0]                        \n",
            "_____________________________________________________________________________________________________________________________\n",
            "concatenate_1 (Concatenate)              (None, 8, 8, 128)          0              activation_5[0][0]                        \n",
            "                                                                                   lambda_1[0][0]                            \n",
            "_____________________________________________________________________________________________________________________________\n",
            "conv2d_5 (Conv2D)                        (None, 8, 8, 64)           73792          concatenate_1[0][0]                       \n",
            "_____________________________________________________________________________________________________________________________\n",
            "batch_normalization_6 (BatchNormalizatio (None, 8, 8, 64)           256            conv2d_5[0][0]                            \n",
            "_____________________________________________________________________________________________________________________________\n",
            "activation_6 (Activation)                (None, 8, 8, 64)           0              batch_normalization_6[0][0]               \n",
            "_____________________________________________________________________________________________________________________________\n",
            "conv2d_transpose_2 (Conv2DTranspose)     (None, 16, 16, 32)         18464          activation_6[0][0]                        \n",
            "_____________________________________________________________________________________________________________________________\n",
            "batch_normalization_7 (BatchNormalizatio (None, 16, 16, 32)         128            conv2d_transpose_2[0][0]                  \n",
            "_____________________________________________________________________________________________________________________________\n",
            "activation_7 (Activation)                (None, 16, 16, 32)         0              batch_normalization_7[0][0]               \n",
            "_____________________________________________________________________________________________________________________________\n",
            "lambda_2 (Lambda)                        (None, 16, 16, 32)         0              activation_3[0][0]                        \n",
            "_____________________________________________________________________________________________________________________________\n",
            "concatenate_2 (Concatenate)              (None, 16, 16, 64)         0              activation_7[0][0]                        \n",
            "                                                                                   lambda_2[0][0]                            \n",
            "_____________________________________________________________________________________________________________________________\n",
            "conv2d_6 (Conv2D)                        (None, 16, 16, 32)         18464          concatenate_2[0][0]                       \n",
            "_____________________________________________________________________________________________________________________________\n",
            "batch_normalization_8 (BatchNormalizatio (None, 16, 16, 32)         128            conv2d_6[0][0]                            \n",
            "_____________________________________________________________________________________________________________________________\n",
            "activation_8 (Activation)                (None, 16, 16, 32)         0              batch_normalization_8[0][0]               \n",
            "_____________________________________________________________________________________________________________________________\n",
            "conv2d_transpose_3 (Conv2DTranspose)     (None, 32, 32, 16)         4624           activation_8[0][0]                        \n",
            "_____________________________________________________________________________________________________________________________\n",
            "batch_normalization_9 (BatchNormalizatio (None, 32, 32, 16)         64             conv2d_transpose_3[0][0]                  \n",
            "_____________________________________________________________________________________________________________________________\n",
            "activation_9 (Activation)                (None, 32, 32, 16)         0              batch_normalization_9[0][0]               \n",
            "_____________________________________________________________________________________________________________________________\n",
            "lambda_3 (Lambda)                        (None, 32, 32, 16)         0              activation_2[0][0]                        \n",
            "_____________________________________________________________________________________________________________________________\n",
            "concatenate_3 (Concatenate)              (None, 32, 32, 32)         0              activation_9[0][0]                        \n",
            "                                                                                   lambda_3[0][0]                            \n",
            "_____________________________________________________________________________________________________________________________\n",
            "conv2d_7 (Conv2D)                        (None, 32, 32, 16)         4624           concatenate_3[0][0]                       \n",
            "_____________________________________________________________________________________________________________________________\n",
            "batch_normalization_10 (BatchNormalizati (None, 32, 32, 16)         64             conv2d_7[0][0]                            \n",
            "_____________________________________________________________________________________________________________________________\n",
            "activation_10 (Activation)               (None, 32, 32, 16)         0              batch_normalization_10[0][0]              \n",
            "_____________________________________________________________________________________________________________________________\n",
            "conv2d_8 (Conv2D)                        (None, 32, 32, 9)          153            activation_10[0][0]                       \n",
            "=============================================================================================================================\n",
            "Total params: 3,244,953\n",
            "Trainable params: 3,244,249\n",
            "Non-trainable params: 704\n",
            "_____________________________________________________________________________________________________________________________\n",
            "None\n",
            "=== SELECT VALIDATION SET FROM TRAIN SET\n",
            "[@debug] self.paramsTrain.val_set_mode = random\n"
          ],
          "name": "stdout"
        },
        {
          "output_type": "stream",
          "text": [
            "ic| self.patches['train']['n']: 4983, self.patches['val']['n']: 747\n",
            "ic| self.patches['train']['coords'].shape: (4236, 2)\n",
            "ic| self.patches['val']['coords'].shape: (747, 2)\n"
          ],
          "name": "stderr"
        },
        {
          "output_type": "stream",
          "text": [
            "=== AUGMENTING TRAINING DATA\n",
            "[@debug] label_type = Nto1\n",
            "Before balancing:\n",
            "data.semantic_balance\n"
          ],
          "name": "stdout"
        },
        {
          "output_type": "stream",
          "text": [
            "ic| balance[\"coords\"].shape: (6300, 2)\n",
            "ic| np.unique(self.full_label_train, return_counts = True): (array([0, 1, 2, 3, 4, 5, 6, 7, 8, 9], dtype=uint8),\n",
            "                                                             array([  710232,  1374508,    31550,   136800,   212701,    71804,\n",
            "                                                                     617076,      699,    66684, 64671486]))\n",
            "ic| coords_classes.shape: (4236, 10)\n",
            "ic| unique_train: array([0, 1, 2, 3, 4, 5, 6, 7, 8, 9], dtype=uint8)\n",
            "ic| bcknd_idx: 9\n",
            "ic| psize: 32\n",
            "ic| patch_count: array([1058., 1847.,   51.,  187.,  365.,  118.,  867.,    6.,  119.,\n",
            "                           0.])\n",
            "ic| patch_count[clss]: 1058.0\n",
            "ic| clss: 0\n",
            "ic| idxs.shape: (4236,), idxs.dtype: dtype('bool')\n",
            "ic| np.unique(idxs, return_counts = True): (array([False,  True]), array([3178, 1058]))\n",
            "ic| balance[\"class_coords\"].shape: (1058, 2)\n",
            "ic| samples_per_class: 700\n"
          ],
          "name": "stderr"
        },
        {
          "output_type": "stream",
          "text": [
            "[@debug] clss = 0\n"
          ],
          "name": "stdout"
        },
        {
          "output_type": "stream",
          "text": [
            "ic| patch_count[clss]: 1847.0\n",
            "ic| clss: 1\n",
            "ic| idxs.shape: (4236,), idxs.dtype: dtype('bool')\n",
            "ic| np.unique(idxs, return_counts = True): (array([False,  True]), array([2389, 1847]))\n",
            "ic| balance[\"class_coords\"].shape: (1847, 2)\n",
            "ic| samples_per_class: 700\n"
          ],
          "name": "stderr"
        },
        {
          "output_type": "stream",
          "text": [
            "[@debug] clss = 1\n"
          ],
          "name": "stdout"
        },
        {
          "output_type": "stream",
          "text": [
            "ic| patch_count[clss]: 51.0\n",
            "ic| clss: 2\n",
            "ic| idxs.shape: (4236,), idxs.dtype: dtype('bool')\n",
            "ic| np.unique(idxs, return_counts = True): (array([False,  True]), array([4185,   51]))\n",
            "ic| balance[\"class_coords\"].shape: (51, 2)\n",
            "ic| samples_per_class: 700\n"
          ],
          "name": "stderr"
        },
        {
          "output_type": "stream",
          "text": [
            "[@debug] clss = 2\n"
          ],
          "name": "stdout"
        },
        {
          "output_type": "stream",
          "text": [
            "ic| patch_count[clss]: 187.0\n",
            "ic| clss: 3\n",
            "ic| idxs.shape: (4236,), idxs.dtype: dtype('bool')\n",
            "ic| np.unique(idxs, return_counts = True): (array([False,  True]), array([4049,  187]))\n",
            "ic| balance[\"class_coords\"].shape: (187, 2)\n",
            "ic| samples_per_class: 700\n"
          ],
          "name": "stderr"
        },
        {
          "output_type": "stream",
          "text": [
            "[@debug] clss = 3\n"
          ],
          "name": "stdout"
        },
        {
          "output_type": "stream",
          "text": [
            "ic| patch_count[clss]: 365.0\n",
            "ic| clss: 4\n",
            "ic| idxs.shape: (4236,), idxs.dtype: dtype('bool')\n",
            "ic| np.unique(idxs, return_counts = True): (array([False,  True]), array([3871,  365]))\n",
            "ic| balance[\"class_coords\"].shape: (365, 2)\n",
            "ic| samples_per_class: 700\n"
          ],
          "name": "stderr"
        },
        {
          "output_type": "stream",
          "text": [
            "[@debug] clss = 4\n"
          ],
          "name": "stdout"
        },
        {
          "output_type": "stream",
          "text": [
            "ic| patch_count[clss]: 118.0\n",
            "ic| clss: 5\n",
            "ic| idxs.shape: (4236,), idxs.dtype: dtype('bool')\n",
            "ic| np.unique(idxs, return_counts = True): (array([False,  True]), array([4118,  118]))\n",
            "ic| balance[\"class_coords\"].shape: (118, 2)\n",
            "ic| samples_per_class: 700\n"
          ],
          "name": "stderr"
        },
        {
          "output_type": "stream",
          "text": [
            "[@debug] clss = 5\n"
          ],
          "name": "stdout"
        },
        {
          "output_type": "stream",
          "text": [
            "ic| patch_count[clss]: 867.0\n",
            "ic| clss: 6\n",
            "ic| idxs.shape: (4236,), idxs.dtype: dtype('bool')\n",
            "ic| np.unique(idxs, return_counts = True): (array([False,  True]), array([3369,  867]))\n",
            "ic| balance[\"class_coords\"].shape: (867, 2)\n",
            "ic| samples_per_class: 700\n"
          ],
          "name": "stderr"
        },
        {
          "output_type": "stream",
          "text": [
            "[@debug] clss = 6\n"
          ],
          "name": "stdout"
        },
        {
          "output_type": "stream",
          "text": [
            "ic| patch_count[clss]: 6.0\n",
            "ic| clss: 7\n",
            "ic| idxs.shape: (4236,), idxs.dtype: dtype('bool')\n",
            "ic| np.unique(idxs, return_counts = True): (array([False,  True]), array([4230,    6]))\n",
            "ic| balance[\"class_coords\"].shape: (6, 2)\n",
            "ic| samples_per_class: 700\n"
          ],
          "name": "stderr"
        },
        {
          "output_type": "stream",
          "text": [
            "[@debug] clss = 7\n"
          ],
          "name": "stdout"
        },
        {
          "output_type": "stream",
          "text": [
            "ic| patch_count[clss]: 119.0\n",
            "ic| clss: 8\n",
            "ic| idxs.shape: (4236,), idxs.dtype: dtype('bool')\n",
            "ic| np.unique(idxs, return_counts = True): (array([False,  True]), array([4117,  119]))\n",
            "ic| balance[\"class_coords\"].shape: (119, 2)\n",
            "ic| samples_per_class: 700\n"
          ],
          "name": "stderr"
        },
        {
          "output_type": "stream",
          "text": [
            "[@debug] clss = 8\n",
            "Balanced train unique (coords):\n",
            "[@debug] self.patches['train']['coords'].shape = (6300, 2)\n",
            "[@debug] data.patches['train']['coords'].shape = (6300, 2)\n",
            "WARNING:tensorflow:From /content/FCN_ConvLSTM_Crop_Recognition_Open_Set/networks/convlstm_networks/train_src/keras_weighted_categorical_crossentropy.py:89: to_int32 (from tensorflow.python.ops.math_ops) is deprecated and will be removed in a future version.\n",
            "Instructions for updating:\n",
            "Use `tf.cast` instead.\n"
          ],
          "name": "stdout"
        },
        {
          "output_type": "stream",
          "text": [
            "ic| data.patches['train']['coords'].shape: (6300, 2)\n",
            "ic| data.t_len: 12\n",
            "ic| data.full_ims_train.shape: (12, 8492, 7995, 2)\n",
            "ic| self.model_t_len: 12\n",
            "ic| im.shape: (12, 8492, 7995, 2)\n",
            "ic| data.full_ims_train.shape: (12, 8492, 7995, 2)\n",
            "ic| self.class_n: 9\n",
            "ic| data.patches['train']['coords'].shape: (6300, 2)\n",
            "ic| data.patches['train']['coords'][0:16]: array([[5712, 1456],\n",
            "                                                  [5744, 1456],\n",
            "                                                  [1232, 5392],\n",
            "                                                  [7376,  912],\n",
            "                                                  [4848, 4720],\n",
            "                                                  [1232, 5488],\n",
            "                                                  [4080, 7472],\n",
            "                                                  [6768, 1136],\n",
            "                                                  [6000, 1424],\n",
            "                                                  [1104, 3536],\n",
            "                                                  [3952, 6416],\n",
            "                                                  [2960, 2192],\n",
            "                                                  [4528, 3536],\n",
            "                                                  [6672, 1456],\n",
            "                                                  [5680, 1456],\n",
            "                                                  [5712, 1488]])\n",
            "ic| data.patches['val']['coords'][0:16]: array([[3984, 2448],\n",
            "                                                [ 624, 5776],\n",
            "                                                [2416, 3216],\n",
            "                                                [1392, 6000],\n",
            "                                                [3952, 6544],\n",
            "                                                [1328, 6032],\n",
            "                                                [4752, 6096],\n",
            "                                                [3952, 7184],\n",
            "                                                [3952, 6352],\n",
            "                                                [4688, 5840],\n",
            "                                                [4400, 5648],\n",
            "                                                [1232, 3664],\n",
            "                                                [4400, 6192],\n",
            "                                                [4560, 3984],\n",
            "                                                [4048, 6896],\n",
            "                                                [7184, 1872]])\n",
            "ic| self.batch_size: 16\n",
            "ic| self.patch_size: 32\n",
            "ic| self.batch_size: 16\n",
            "ic| self.patch_size: 32\n",
            "ic| data.patches['val']['coords'].shape: (747, 2)\n",
            "ic| data.patches['val']['coords']: array([[3984, 2448],\n",
            "                                          [ 624, 5776],\n",
            "                                          [2416, 3216],\n",
            "                                          ...,\n",
            "                                          [4400, 2320],\n",
            "                                          [4848, 4112],\n",
            "                                          [4592, 5968]])\n",
            "ic| n_batches: 46\n"
          ],
          "name": "stderr"
        },
        {
          "output_type": "stream",
          "text": [
            "WARNING:tensorflow:From /tensorflow-1.15.2/python3.7/tensorflow_core/python/ops/math_grad.py:1375: where (from tensorflow.python.ops.array_ops) is deprecated and will be removed in a future version.\n",
            "Instructions for updating:\n",
            "Use tf.where in 2.0, which has the same broadcast rule as np.where\n",
            "WARNING:tensorflow:From /tensorflow-1.15.2/python3.7/keras/backend/tensorflow_backend.py:422: The name tf.global_variables is deprecated. Please use tf.compat.v1.global_variables instead.\n",
            "\n"
          ],
          "name": "stdout"
        },
        {
          "output_type": "stream",
          "text": [
            "ic| n_batches: 393\n",
            "ic| n_batches: 46\n",
            "icic||  n_batchesn_batches: :393 \n",
            "46\n"
          ],
          "name": "stderr"
        },
        {
          "output_type": "stream",
          "text": [
            "Epoch 1/70\n",
            "392/393 [============================>.] - ETA: 0s - loss: 0.2232 - accuracy: 0.1470"
          ],
          "name": "stdout"
        },
        {
          "output_type": "stream",
          "text": [
            "ic| n_batches: 393\n"
          ],
          "name": "stderr"
        },
        {
          "output_type": "stream",
          "text": [
            "393/393 [==============================] - 37s 95ms/step - loss: 0.2231 - accuracy: 0.1473 - val_loss: 0.1889 - val_accuracy: 0.2324\n"
          ],
          "name": "stdout"
        },
        {
          "output_type": "stream",
          "text": [
            "ic| n_batches: 46\n",
            "ic| n_batches: 46\n",
            "/usr/local/lib/python3.7/dist-packages/sklearn/metrics/_classification.py:1272: UndefinedMetricWarning: Recall is ill-defined and being set to 0.0 in labels with no true samples. Use `zero_division` parameter to control this behavior.\n",
            "  _warn_prf(average, modifier, msg_start, len(result))\n"
          ],
          "name": "stderr"
        },
        {
          "output_type": "stream",
          "text": [
            " — val_f1: [60.65 84.09  6.86 39.33  9.7  69.18 64.05  0.   35.98]\n",
            " — val_precision: [55.57 89.6   4.72 35.04 73.1  72.08 69.95  0.   24.18]\n",
            " — val_recall: [66.75 79.21 12.53 44.81  5.19 66.51 59.07  0.   70.25]\n",
            " — mean_f1: 41.093333333333334\n",
            "oa 64.09\n",
            "Found best weights at epoch 1\n"
          ],
          "name": "stdout"
        },
        {
          "output_type": "stream",
          "text": [
            "ic| n_batches: 393\n"
          ],
          "name": "stderr"
        },
        {
          "output_type": "stream",
          "text": [
            "Epoch 2/70\n",
            "392/393 [============================>.] - ETA: 0s - loss: 0.1670 - accuracy: 0.2227"
          ],
          "name": "stdout"
        },
        {
          "output_type": "stream",
          "text": [
            "ic| n_batches: 393\n"
          ],
          "name": "stderr"
        },
        {
          "output_type": "stream",
          "text": [
            "393/393 [==============================] - 29s 74ms/step - loss: 0.1670 - accuracy: 0.2228 - val_loss: 0.1158 - val_accuracy: 0.2229\n"
          ],
          "name": "stdout"
        },
        {
          "output_type": "stream",
          "text": [
            "ic| n_batches: 46\n",
            "ic| n_batches: 46\n"
          ],
          "name": "stderr"
        },
        {
          "output_type": "stream",
          "text": [
            " — val_f1: [70.1  89.52  1.6  61.66 25.18 82.35 72.63  0.   35.64]\n",
            " — val_precision: [64.94 88.69  5.57 67.56 69.02 73.27 77.72  0.   22.58]\n",
            " — val_recall: [76.15 90.36  0.93 56.71 15.4  94.01 68.16  0.   84.51]\n",
            " — mean_f1: 48.74222222222222\n",
            "oa 74.52\n",
            "Found best weights at epoch 2\n"
          ],
          "name": "stdout"
        },
        {
          "output_type": "stream",
          "text": [
            "ic| n_batches: 393\n"
          ],
          "name": "stderr"
        },
        {
          "output_type": "stream",
          "text": [
            "Epoch 3/70\n",
            "392/393 [============================>.] - ETA: 0s - loss: 0.1362 - accuracy: 0.1763"
          ],
          "name": "stdout"
        },
        {
          "output_type": "stream",
          "text": [
            "ic| n_batches: 393\n"
          ],
          "name": "stderr"
        },
        {
          "output_type": "stream",
          "text": [
            "393/393 [==============================] - 30s 76ms/step - loss: 0.1362 - accuracy: 0.1765 - val_loss: 0.0942 - val_accuracy: 0.2184\n"
          ],
          "name": "stdout"
        },
        {
          "output_type": "stream",
          "text": [
            "ic| n_batches: 46\n",
            "ic| n_batches: 46\n"
          ],
          "name": "stderr"
        },
        {
          "output_type": "stream",
          "text": [
            " — val_f1: [73.86 90.04 21.42 69.09 64.6  92.36 74.49  0.   56.62]\n",
            " — val_precision: [69.04 89.09 26.75 74.33 73.37 91.06 81.67  0.   40.44]\n",
            " — val_recall: [79.4  91.02 17.86 64.54 57.7  93.69 68.47  0.   94.41]\n",
            " — mean_f1: 60.275555555555556\n",
            "oa 78.98\n",
            "Found best weights at epoch 3\n"
          ],
          "name": "stdout"
        },
        {
          "output_type": "stream",
          "text": [
            "ic| n_batches: 393\n"
          ],
          "name": "stderr"
        },
        {
          "output_type": "stream",
          "text": [
            "Epoch 4/70\n",
            "382/393 [============================>.] - ETA: 0s - loss: 0.1123 - accuracy: 0.1533"
          ],
          "name": "stdout"
        }
      ]
    }
  ]
}